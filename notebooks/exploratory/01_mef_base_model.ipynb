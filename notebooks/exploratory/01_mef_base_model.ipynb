{
 "cells": [
  {
   "cell_type": "markdown",
   "metadata": {},
   "source": [
    "## Purpose of this notebook:\n",
    "Build a very simple model to set baseline of performance. This model will be composed of a flatten layer for image input, a single dense layer with 16 nodes, and an output layer with a sigmoid activation function for classification. \n",
    "\n",
    "Workflow:\n",
    "1. Import Data\n",
    "2. Build Model\n",
    "3. Train\n",
    "4. Evaluate"
   ]
  },
  {
   "cell_type": "code",
   "execution_count": 2,
   "metadata": {},
   "outputs": [],
   "source": [
    "# Visualization\n",
    "import matplotlib.pyplot as plt\n",
    "import seaborn as sns\n",
    "plt.style.use('fivethirtyeight')\n",
    "\n",
    "# Evaluation\n",
    "from sklearn.metrics import roc_curve, auc, classification_report, confusion_matrix\n",
    "from keras import metrics\n",
    "\n",
    "# Modelling\n",
    "from keras.models import Sequential\n",
    "from keras.layers import Flatten, Dense\n",
    "\n",
    "# Preprocessing\n",
    "from keras.preprocessing.image import ImageDataGenerator, img_to_array, load_img\n",
    "import warnings\n",
    "warnings.filterwarnings('ignore', category=DeprecationWarning)\n",
    "warnings.filterwarnings('ignore', category=FutureWarning)\n",
    "\n",
    "# Custom Functions\n",
    "import os\n",
    "import sys\n",
    "module_path = os.path.abspath(os.path.join(os.pardir, os.pardir))\n",
    "if module_path not in sys.path:\n",
    "    sys.path.append(module_path)\n",
    "import src.functions as fn"
   ]
  },
  {
   "cell_type": "markdown",
   "metadata": {},
   "source": [
    "### Data import\n",
    "The cell below instantiates 3 keras ImageDataGenerator objects and directory iterators for each one. \n",
    "These can be passed to a keras model's fit or evaluate methods and will act as though they were arrays of data without having to import the entire image dataset.\n",
    "- All pixel values are scaled by 1/225.\n",
    "- All images are rescaled to 100, 100, and reduced to greyscale (1 channel)\n",
    "- Training data was augmented with a zoom range of .2 and horizontal flipping"
   ]
  },
  {
   "cell_type": "code",
   "execution_count": 3,
   "metadata": {},
   "outputs": [
    {
     "name": "stdout",
     "output_type": "stream",
     "text": [
      "Found 2568 images belonging to 2 classes.\n",
      "Found 550 images belonging to 2 classes.\n",
      "Found 624 images belonging to 2 classes.\n"
     ]
    }
   ],
   "source": [
    "train_gen, val_gen, test_gen = fn.load_data_generators()"
   ]
  },
  {
   "cell_type": "markdown",
   "metadata": {},
   "source": [
    "### Model Parameters:\n",
    "- Layers:\n",
    " - Flatten layer: Input\n",
    " - Dense layer: 16 nodes, ReLU activation\n",
    " - Output layer: Sigmoid activation\n",
    "- Optimizer: Adam\n",
    "- Loss: Binary Crossentropy"
   ]
  },
  {
   "cell_type": "code",
   "execution_count": 4,
   "metadata": {},
   "outputs": [],
   "source": [
    "model = Sequential()\n",
    "model.add(Flatten(input_shape=(100,100,1)))\n",
    "model.add(Dense(units=16, \n",
    "                activation='relu'))\n",
    "model.add(Dense(units=1, \n",
    "                activation='sigmoid'))\n",
    "\n",
    "model.compile(optimizer='adam', loss='binary_crossentropy', metrics=[\n",
    "        'accuracy',\n",
    "        metrics.Precision(name='precision'),\n",
    "        metrics.Recall(name='recall')\n",
    "    ])"
   ]
  },
  {
   "cell_type": "markdown",
   "metadata": {},
   "source": [
    "### Fit model\n",
    "- Trained for 10 epochs\n",
    "- Number of steps is set equal to the length of the data generator which means it will run through the entire data folder at each epoch."
   ]
  },
  {
   "cell_type": "code",
   "execution_count": 6,
   "metadata": {},
   "outputs": [
    {
     "name": "stdout",
     "output_type": "stream",
     "text": [
      "Epoch 1/10\n",
      "81/81 [==============================] - 88s 1s/step - loss: 0.7642 - accuracy: 0.5393 - precision: 0.5562 - recall: 0.8712 - val_loss: 0.6906 - val_accuracy: 0.6218 - val_precision: 0.6218 - val_recall: 1.0000\n",
      "Epoch 2/10\n",
      "81/81 [==============================] - 46s 570ms/step - loss: 0.6912 - accuracy: 0.5592 - precision: 0.5592 - recall: 1.0000 - val_loss: 0.6868 - val_accuracy: 0.6218 - val_precision: 0.6218 - val_recall: 1.0000\n",
      "Epoch 3/10\n",
      "81/81 [==============================] - 47s 578ms/step - loss: 0.6897 - accuracy: 0.5592 - precision: 0.5592 - recall: 1.0000 - val_loss: 0.6840 - val_accuracy: 0.6218 - val_precision: 0.6218 - val_recall: 1.0000\n",
      "Epoch 4/10\n",
      "81/81 [==============================] - 48s 598ms/step - loss: 0.6887 - accuracy: 0.5592 - precision: 0.5592 - recall: 1.0000 - val_loss: 0.6816 - val_accuracy: 0.6218 - val_precision: 0.6218 - val_recall: 1.0000\n",
      "Epoch 5/10\n",
      "81/81 [==============================] - 47s 575ms/step - loss: 0.6879 - accuracy: 0.5592 - precision: 0.5592 - recall: 1.0000 - val_loss: 0.6797 - val_accuracy: 0.6218 - val_precision: 0.6218 - val_recall: 1.0000\n",
      "Epoch 6/10\n",
      "81/81 [==============================] - 46s 569ms/step - loss: 0.6874 - accuracy: 0.5592 - precision: 0.5592 - recall: 1.0000 - val_loss: 0.6778 - val_accuracy: 0.6218 - val_precision: 0.6218 - val_recall: 1.0000\n",
      "Epoch 7/10\n",
      "81/81 [==============================] - 45s 561ms/step - loss: 0.6870 - accuracy: 0.5592 - precision: 0.5592 - recall: 1.0000 - val_loss: 0.6765 - val_accuracy: 0.6218 - val_precision: 0.6218 - val_recall: 1.0000\n",
      "Epoch 8/10\n",
      "81/81 [==============================] - 47s 581ms/step - loss: 0.6867 - accuracy: 0.5592 - precision: 0.5592 - recall: 1.0000 - val_loss: 0.6755 - val_accuracy: 0.6218 - val_precision: 0.6218 - val_recall: 1.0000\n",
      "Epoch 9/10\n",
      "81/81 [==============================] - 49s 599ms/step - loss: 0.6866 - accuracy: 0.5592 - precision: 0.5592 - recall: 1.0000 - val_loss: 0.6749 - val_accuracy: 0.6218 - val_precision: 0.6218 - val_recall: 1.0000\n",
      "Epoch 10/10\n",
      "81/81 [==============================] - 45s 556ms/step - loss: 0.6864 - accuracy: 0.5592 - precision: 0.5592 - recall: 1.0000 - val_loss: 0.6741 - val_accuracy: 0.6218 - val_precision: 0.6218 - val_recall: 1.0000\n"
     ]
    }
   ],
   "source": [
    "history = model.fit(train_gen, \n",
    "                    epochs=10, \n",
    "                    validation_data=(val_gen), \n",
    "                    steps_per_epoch=len(train_gen), \n",
    "                    validation_steps=len(val_gen))"
   ]
  },
  {
   "cell_type": "markdown",
   "metadata": {},
   "source": [
    "## Evaluation"
   ]
  },
  {
   "cell_type": "code",
   "execution_count": 7,
   "metadata": {},
   "outputs": [
    {
     "name": "stdout",
     "output_type": "stream",
     "text": [
      "20/20 [==============================] - 11s 570ms/step - loss: 0.6735 - accuracy: 0.6250 - precision: 0.6250 - recall: 1.0000\n"
     ]
    },
    {
     "data": {
      "text/plain": [
       "[('loss', 0.673467755317688),\n",
       " ('accuracy', 0.625),\n",
       " ('precision', 0.625),\n",
       " ('recall', 1.0)]"
      ]
     },
     "execution_count": 7,
     "metadata": {},
     "output_type": "execute_result"
    }
   ],
   "source": [
    "acc = model.evaluate(test_gen, steps=len(test_gen), verbose=1)\n",
    "list(zip(model.metrics_names, acc))"
   ]
  },
  {
   "cell_type": "markdown",
   "metadata": {},
   "source": [
    "### Business interpetation of Metrics:\n",
    "The recall (sensitivity) score of 100% means that no ill patient went undetected in our test set.\n",
    "The precision score of 62.5% means that almost 40% of patients without pneumonia are being flagged.\n",
    "Reducing the precision score will be beneficial for optimizing the efficiency of radiologists, but it should not be optimized at great cost to the recall score as this is still the priority.\n",
    "\n",
    "In terms of overall accuracy, this model's score of 62.5% is slightly better than random chance."
   ]
  },
  {
   "cell_type": "markdown",
   "metadata": {},
   "source": [
    "#### Create test set array\n",
    "This makes it easier to create a confusion matrix."
   ]
  },
  {
   "cell_type": "code",
   "execution_count": 10,
   "metadata": {},
   "outputs": [],
   "source": [
    "X, y = fn.generator_to_array(test_gen)"
   ]
  },
  {
   "cell_type": "code",
   "execution_count": 11,
   "metadata": {},
   "outputs": [
    {
     "name": "stdout",
     "output_type": "stream",
     "text": [
      "WARNING:tensorflow:From <ipython-input-11-2ba97a5c8efb>:1: Sequential.predict_classes (from tensorflow.python.keras.engine.sequential) is deprecated and will be removed after 2021-01-01.\n",
      "Instructions for updating:\n",
      "Please use instead:* `np.argmax(model.predict(x), axis=-1)`,   if your model does multi-class classification   (e.g. if it uses a `softmax` last-layer activation).* `(model.predict(x) > 0.5).astype(\"int32\")`,   if your model does binary classification   (e.g. if it uses a `sigmoid` last-layer activation).\n"
     ]
    }
   ],
   "source": [
    "y_hat = model.predict_classes(X)"
   ]
  },
  {
   "cell_type": "code",
   "execution_count": 12,
   "metadata": {},
   "outputs": [
    {
     "name": "stderr",
     "output_type": "stream",
     "text": [
      "/home/max/anaconda3/lib/python3.7/site-packages/sklearn/metrics/_classification.py:1221: UndefinedMetricWarning: Precision and F-score are ill-defined and being set to 0.0 in labels with no predicted samples. Use `zero_division` parameter to control this behavior.\n",
      "  _warn_prf(average, modifier, msg_start, len(result))\n"
     ]
    },
    {
     "name": "stdout",
     "output_type": "stream",
     "text": [
      "              precision    recall  f1-score   support\n",
      "\n",
      "      NORMAL       0.00      0.00      0.00       234\n",
      "   PNEUMONIA       0.62      1.00      0.77       390\n",
      "\n",
      "    accuracy                           0.62       624\n",
      "   macro avg       0.31      0.50      0.38       624\n",
      "weighted avg       0.39      0.62      0.48       624\n",
      "\n",
      "Accurancy:  0.625\n"
     ]
    },
    {
     "data": {
      "image/png": "[encoded data removed]",
      "text/plain": [
       "<Figure size 432x288 with 2 Axes>"
      ]
     },
     "metadata": {},
     "output_type": "display_data"
    }
   ],
   "source": [
    "fn.evaluation(y, y_hat)"
   ]
  },
  {
   "cell_type": "markdown",
   "metadata": {},
   "source": [
    "### Essentially a Dummy model\n",
    "\n",
    "This confusion matrix only guessed pneumonia on the test set, which explains the low accuracy and precision score."
   ]
  },
  {
   "cell_type": "code",
   "execution_count": 13,
   "metadata": {},
   "outputs": [],
   "source": [
    "accuracy = history.history['accuracy']\n",
    "loss = history.history['loss']\n",
    "\n",
    "val_accuracy = history.history['val_accuracy']\n",
    "val_loss = history.history['val_loss']"
   ]
  },
  {
   "cell_type": "code",
   "execution_count": 19,
   "metadata": {},
   "outputs": [
    {
     "data": {
      "image/png": "[encoded data removed]",
      "text/plain": [
       "<Figure size 648x432 with 1 Axes>"
      ]
     },
     "metadata": {},
     "output_type": "display_data"
    }
   ],
   "source": [
    "fig, ax = plt.subplots(1,1, figsize=(9,6))\n",
    "\n",
    "sns.lineplot(range(len(accuracy)), accuracy, ax=ax, label='Training Set')\n",
    "# sns.lineplot(range(len(loss)), loss, ax=ax[1])\n",
    "\n",
    "sns.lineplot(range(len(val_accuracy)), val_accuracy, ax=ax, label='Validation Set')\n",
    "# sns.lineplot(range(len(val_loss)), val_loss, ax=ax[1])\n",
    "\n",
    "ax.set_title(\"Change in Accuracy with\\nEach Training Cycle (Epoch)\", fontsize=20)\n",
    "ax.set_ylabel('Loss', fontsize=15)\n",
    "ax.set_xlabel('Epoch', fontsize=20)\n",
    "ax.tick_params(labelsize='15')\n",
    "ax.legend(loc='center right', fontsize=20)\n",
    "plt.tight_layout()\n",
    "\n",
    "# plt.savefig('accuracy_with_val.png', transparency=True) # uncomment to save image"
   ]
  },
  {
   "cell_type": "markdown",
   "metadata": {},
   "source": [
    "### This graph indicates that the model stopped fitting in any meaningful way at the first epoch"
   ]
  }
 ],
 "metadata": {
  "kernelspec": {
   "display_name": "Python 3",
   "language": "python",
   "name": "python3"
  },
  "language_info": {
   "codemirror_mode": {
    "name": "ipython",
    "version": 3
   },
   "file_extension": ".py",
   "mimetype": "text/x-python",
   "name": "python",
   "nbconvert_exporter": "python",
   "pygments_lexer": "ipython3",
   "version": "3.7.6"
  }
 },
 "nbformat": 4,
 "nbformat_minor": 4
}
